{
 "cells": [
  {
   "cell_type": "code",
   "execution_count": 59,
   "metadata": {},
   "outputs": [],
   "source": [
    "import numpy as np\n",
    "from math import sin, cos, tan, pi\n",
    "import matplotlib.pyplot as plt\n",
    "from scipy.optimize import curve_fit\n"
   ]
  },
  {
   "cell_type": "code",
   "execution_count": 60,
   "metadata": {},
   "outputs": [],
   "source": [
    "#Raw Voltage Across Shunt Resistor Data vs Frequency\n",
    "#NaN was manually placed as data point was missing.\n",
    "#Voltage in mV, frequency MHz\n",
    "voltage_shunt = [5.002, 3.021, 3.681, 5.989, 6.879, 4.34, 5.006, 7.971, 8.961, 5.663, 8.976, 13.908, np.nan, 18.9, 16.346, 10.58, 1.5, 0.676]\n",
    "frequency = [1.2, 1.2, 1.4, 1.4, 1.6, 1.6, 1.8, 1.8, 2, 2, 3, 3, 4,4, 3.5, 3.5, 0.5, 0.5]\n",
    "error = 0.002 \n",
    "#Sorting voltage frequency S.T. lower voltage is first for each frequency\n",
    "def sort_voltages(voltages): \n",
    "    for l in range(0, len(voltages)//2):\n",
    "        i = l*2\n",
    "        if voltages[i] is np.nan or voltages[i+1] is np.nan:\n",
    "            continue\n",
    "        t1 = min(voltages[i], voltages[i+1])\n",
    "        t2 = max(voltages[i], voltages[i+1])\n",
    "        voltages[i] = t1 \n",
    "        voltages[i+1] = t2\n",
    "sort_voltages(voltage_shunt)\n",
    "#Splitting data into two lines of voltage vs frequency\n",
    "x1, y1= voltage_shunt[::2], frequency[::2]\n",
    "x2, y2= voltage_shunt[1::2], frequency[1::2]\n",
    "\n",
    "#Repeating for reverse polarity\n",
    "#Removed -0.356 mV / .2 MHz frequency - doesn't fit / possibly zero field?\n",
    "reverse_voltage_shunt = [-1.425,-1.68,-5.902,-8.37,-10.84,-7.52,-9.178,-13.293,-10.832,-15.756]\n",
    "reverse_frequency= [0.2,0.2,1.5,1.5,2,2,2.5,2.5,3,3]\n",
    "sort_voltages(reverse_voltage_shunt)\n",
    "x3, y3= reverse_voltage_shunt[::2], reverse_frequency[::2]\n",
    "x4, y4= reverse_voltage_shunt[1::2], reverse_frequency[1::2]\n"
   ]
  },
  {
   "cell_type": "code",
   "execution_count": 61,
   "metadata": {},
   "outputs": [
    {
     "data": {
      "text/plain": [
       "<matplotlib.collections.PathCollection at 0xe47fa0>"
      ]
     },
     "execution_count": 61,
     "metadata": {},
     "output_type": "execute_result"
    },
    {
     "data": {
      "image/png": "[encoded data removed]",
      "text/plain": [
       "<Figure size 432x288 with 1 Axes>"
      ]
     },
     "metadata": {
      "needs_background": "light"
     },
     "output_type": "display_data"
    },
    {
     "data": {
      "image/png": "[encoded data removed]",
      "text/plain": [
       "<Figure size 432x288 with 1 Axes>"
      ]
     },
     "metadata": {
      "needs_background": "light"
     },
     "output_type": "display_data"
    }
   ],
   "source": [
    "plt.title(\"Frequency (MHz) vs. Voltage across shunt resistor (mV) \\n Positive Polarity\")\n",
    "plt.scatter(x1, y1)\n",
    "plt.scatter(x2, y2)\n",
    "plt.figure()\n",
    "plt.title(\"Frequency (MHz) vs. Voltage across shunt resistor (mV) \\n Negative Polarity\")\n",
    "\n",
    "\n",
    "plt.scatter(x3, y3)\n",
    "plt.scatter(x4, y4)\n",
    "\n"
   ]
  },
  {
   "cell_type": "code",
   "execution_count": 100,
   "metadata": {},
   "outputs": [
    {
     "name": "stdout",
     "output_type": "stream",
     "text": [
      "(0.3028085226577366, 0.0071797533353050585, 0.2874077328481919, 0.04324870149556668)\n",
      "(0.20153082563699398, 0.002531568438623422, 0.19755760102782816, 0.027396936935704577)\n",
      "(-0.19869541069551766, 0.0038896336158445125, -0.14482427281045496, 0.041672723512502716)\n",
      "(-0.29771080424952845, 0.008488800238026601, -0.23558642401487084, 0.06413247214035653)\n"
     ]
    }
   ],
   "source": [
    "#Assuming constant error of .002 mV\n",
    "#Naively calculate slope for each line\n",
    "#Use naive slope to propagate error onto y variable\n",
    "#Calculate least squared regression. Given we are assuming fixed error on x\n",
    "#this should give same result as simple least squared\n",
    "\n",
    "#Then need to calculate error see https://en.wikipedia.org/wiki/Weighted_least_squares\n",
    "#For forumulas\n",
    "def naive_slope(x, y):\n",
    "    \n",
    "    pars, cov = curve_fit(lambda x, m, y0 : m*x+y0, x, y, p0=[1,1])  \n",
    "    slope = pars[0]\n",
    "    return slope, cov[0,0]**(1/2)\n",
    "    \n",
    "#Error estimate based on naive slope prediction and its error as well as observation error in x propagated to y\n",
    "def y_err(x, y):\n",
    "    slope_estimate, err = naive_slope(x,y)\n",
    "    #yerr = ((.002 * slope_estimate)**2 + (err*x)**2)**(1/2)  * np.ones(x.shape)\n",
    "    yerr = ((.002 * slope_estimate)**2 + (err*x)**2)**(1/2)  * np.ones(x.shape)\n",
    "    return yerr\n",
    "def error_lslf(x, y):\n",
    "    x = np.array(x)\n",
    "    y = np.array(y)\n",
    "    y = y[~np.isnan(x)]\n",
    "    x = x[~np.isnan(x)]\n",
    "    \n",
    "    X = np.zeros(shape=(len(x), 2))\n",
    "    X[:, 0] = x\n",
    "    X[:, 1] = 1\n",
    "    err = y_err(x,y)\n",
    "    W = np.diag(1/err**2)\n",
    "    B = np.linalg.inv(X.transpose()@W@X)@(X.transpose()@W@y)\n",
    "    mw, y0w = B\n",
    "    errors = np.linalg.inv(X.transpose() @ W @ X)\n",
    "    err_mw = errors[0,0]**(1/2)\n",
    "    err_y0w = errors[1,1]**(1/2)\n",
    "    \n",
    "    #print(err_y0w)\n",
    "    return mw, err_mw, y0w,err_y0w\n",
    "    \n",
    "print(error_lslf(x1, y1))\n",
    "print(error_lslf(x2, y2))\n",
    "print(error_lslf(x3, y3))\n",
    "print(error_lslf(x4, y4))\n"
   ]
  },
  {
   "cell_type": "code",
   "execution_count": 101,
   "metadata": {},
   "outputs": [
    {
     "name": "stdout",
     "output_type": "stream",
     "text": [
      "(0.30281499371056486, 0.0006776961497154371, 0.2873788398281262, 0.004091535147311155)\n",
      "(0.20152684028705256, 0.0004961538377585633, 0.19759137075636685, 0.005415252199645271)\n",
      "(-0.19890040610080914, 0.0014593379200265834, -0.14657747605366125, 0.01618931746579)\n",
      "(-0.2978450711744928, 0.0021589689078991754, -0.23639712905930996, 0.016582864131461632)\n"
     ]
    }
   ],
   "source": [
    "def simple_lsr(x, y):\n",
    "    x = np.array(x)\n",
    "    y = np.array(y)\n",
    "    y = y[~np.isnan(x)]\n",
    "    x = x[~np.isnan(x)]\n",
    "    pars, cov = curve_fit(lambda x, m, y0 : m*x+y0, x, y, p0=[1,1])  \n",
    "    mean, sd = pars\n",
    "    mean_err,sd_err  = np.sqrt(np.diag(cov))\n",
    "    return mean, mean_err, sd, sd_err\n",
    "\n",
    "print(simple_lsr(x1, y1))\n",
    "print(simple_lsr(x2, y2))\n",
    "print(simple_lsr(x3, y3))\n",
    "print(simple_lsr(x4, y4))\n"
   ]
  },
  {
   "cell_type": "code",
   "execution_count": 102,
   "metadata": {},
   "outputs": [
    {
     "name": "stdout",
     "output_type": "stream",
     "text": [
      "(0.20054000490459922, 0.0021455185061772394, 9.229715877268063e-05, 0.02301418441948502)\n",
      "(0.29943341683402114, 0.00531426621188645, 0.006613001893107651, 0.035206045245302076)\n"
     ]
    }
   ],
   "source": [
    "#Weighted LSRL\n",
    "def adjusted_concat(x1,y1, x2, y2):\n",
    "    x1 = np.array(x1)\n",
    "    y1 = np.array(y1)\n",
    "    x2 = np.array(x2)\n",
    "    y2 = np.array(y2)\n",
    "    m, _, y0, _ = simple_lsr(x1, y1)\n",
    "    m2, _, y02, _ = simple_lsr(x2, y2)\n",
    "    x= np.concatenate((x1, -1* np.array(x2)))\n",
    "    y =  np.concatenate((y1-y0, y2-y02))\n",
    "    return x,y\n",
    "\n",
    "#print(simple_lsr(x85, y85))\n",
    "#print(simple_lsr(x87, y87))\n",
    "data_87 = adjusted_concat(x1,y1, x4, y4)\n",
    "adj_87w = error_lslf(*data_87)\n",
    "data_85 = adjusted_concat(x2,y2, x3, y3)\n",
    "adj_85w =error_lslf(*data_85)\n",
    "print(adj_85w)\n",
    "print(adj_87w)"
   ]
  },
  {
   "cell_type": "code",
   "execution_count": 103,
   "metadata": {},
   "outputs": [
    {
     "name": "stdout",
     "output_type": "stream",
     "text": [
      "(0.20060719103542157, 0.0009260113974840049, -0.00047468247472726155, 0.010166532388094314)\n",
      "(0.29948395968302566, 0.0017404826755106262, 0.006352828398506918, 0.011691317562706218)\n"
     ]
    }
   ],
   "source": [
    "#Simple LSR Combing polarities\n",
    "\n",
    "#Function removes ambient field bias by subtracting out intercepts before\n",
    "#combining negative and positive fields\n",
    "def adjusted_concat(x1,y1, x2, y2):\n",
    "    x1 = np.array(x1)\n",
    "    y1 = np.array(y1)\n",
    "    x2 = np.array(x2)\n",
    "    y2 = np.array(y2)\n",
    "    m, _, y0, _ = simple_lsr(x1, y1)\n",
    "    m2, _, y02, _ = simple_lsr(x2, y2)\n",
    "    x= np.concatenate((x1, -1* np.array(x2)))\n",
    "    y =  np.concatenate((y1-y0, y2-y02))\n",
    "    return x,y\n",
    "\n",
    "#print(simple_lsr(x85, y85))\n",
    "#print(simple_lsr(x87, y87))\n",
    "data_87 = adjusted_concat(x1,y1, x4, y4)\n",
    "adj_87 = simple_lsr(*data_87)\n",
    "data_85 = adjusted_concat(x2,y2, x3, y3)\n",
    "adj_85 =simple_lsr(*data_85)\n",
    "print(adj_85)\n",
    "print(adj_87)"
   ]
  },
  {
   "cell_type": "code",
   "execution_count": 104,
   "metadata": {},
   "outputs": [
    {
     "name": "stdout",
     "output_type": "stream",
     "text": [
      "0.20060719103542157 0.2059 0.0009260113974840049 0.005292808964578427 2.5705725908588763\n",
      "0.29948395968302566 0.3089 0.0017404826755106262 0.00941604031697435 3.0482487267641143\n",
      "0.20054000490459922 0.2059 0.0021455185061772394 0.005359995095400777 2.60320305750402\n",
      "0.29943341683402114 0.3089 0.00531426621188645 0.00946658316597887 3.064610931038805\n"
     ]
    }
   ],
   "source": [
    "#Breit-Rabi Predictions\n",
    "#v/B = 2.799 / (2I+1) MHz/ G\n",
    "#B = I * 4.414138 G / A\n",
    "#v  = I /  (2I+1) * 4.414138 G/ A * 2.799 MHz / G\n",
    "#v = I / (2I+1) * 12.355 MHz / A\n",
    "#V = IR where R = I (10 mV/ A)\n",
    "#I = V/ 10 * A / mV\n",
    "#v = V / (2I+1) * 1.2355 MHz / mV\n",
    "\n",
    "\n",
    "#v_85 = 0.2059 MHz / mV * V\n",
    "#v_87 = 0.3089 MHz / mV * V\n",
    "cons_85 = 0.2059\n",
    "cons_87 = 0.3089\n",
    "\n",
    "def error(f, cons):\n",
    "    abs_err = abs(f[0] - cons)\n",
    "    p_err = abs_err / cons\n",
    "    print(f[0], cons, f[1], abs_err, p_err*100)\n",
    "\n",
    "error(adj_85, cons_85)\n",
    "error(adj_87, cons_87)\n",
    "\n",
    "\n",
    "error(adj_85w, cons_85)\n",
    "error(adj_87w, cons_87)"
   ]
  },
  {
   "cell_type": "code",
   "execution_count": 90,
   "metadata": {},
   "outputs": [
    {
     "name": "stdout",
     "output_type": "stream",
     "text": [
      "Best Fit for (I85, I87): (2.5, 1.5)\n",
      "Predicted ratio: 0.6666666666666666\n",
      "Observed ratio: 0.6698428565180738\n"
     ]
    }
   ],
   "source": [
    "#3 Determine Nuclear Spins \n",
    "\n",
    "#v = B * 2.799 / (2I+1) MHz/ G\n",
    "\n",
    "#v85/v87=(2I87+1) / (I85+1) \n",
    "\n",
    "#Minimize these errors\n",
    "#v85/v87 = (2I87+1) / (I85+1) = 0.6758\n",
    "#m_85 = 1.2355 / (2I85+1) = 0.2024\n",
    "#m_87 = 1.2355 / (2I87+1) = 0.3089\n",
    "#=>\n",
    "# 1.2355 = .2024 + .2024 * 2 * I85\n",
    "# 1.2355 = .3089 + .3089 * 2 * I87\n",
    "# 2*I87+1 = (I85 + 1) * .6758\n",
    "\n",
    "m85 = adj_85[0]\n",
    "m87 = adj_87[0]\n",
    "c = 1.2355\n",
    "r = m85/m87\n",
    "max_spin = 40 * 2 #technically double max spin, as number gets divided by 2\n",
    "\n",
    "#Essentially do min squared error on 3 parameters\n",
    "\n",
    "b = np.array([1-r, c-m85, c-m87])\n",
    "A = np.array([[2 *r, -2], [2 * m85, 0], [0, 2 * m87]])\n",
    "def error(pair):\n",
    "    x, y = pair\n",
    "    return np.linalg.norm(b - A@np.array([x,y]).T)\n",
    "    \n",
    "\n",
    "pairs = [y for x in [[(x/2, y/2) for y in range(0, max_spin)] for x in range(0,max_spin)] for y in x]\n",
    "pairs.sort(key= lambda x:error(x))\n",
    "p_r = (2*pairs[0][1] + 1)/(2*pairs[0][0]+1)\n",
    "\n",
    "print(\"Best Fit for (I85, I87): \"+str(pairs[0]))\n",
    "print(\"Predicted ratio: \" + str(p_r))\n",
    "print(\"Observed ratio: \" + str(r))"
   ]
  },
  {
   "cell_type": "code",
   "execution_count": 9,
   "metadata": {},
   "outputs": [
    {
     "name": "stdout",
     "output_type": "stream",
     "text": [
      "Best Fit(s) for (I85, I87): (18.0, 12.0)\n",
      "Predicted ratio: 0.6756756756756757\n",
      "Observed ratio: 0.6758033915953846\n"
     ]
    }
   ],
   "source": [
    "#Using only ratio and half integer expectation\n",
    "def error(pair):\n",
    "    x, y = pair\n",
    "    return abs(r - (2 * y +1) / (2 *x + 1))\n",
    "    \n",
    "\n",
    "pairs = [y for x in [[(x/2, y/2) for y in range(0, max_spin)] for x in range(0,max_spin)] for y in x]\n",
    "pairs.sort(key= lambda x:error(x))\n",
    "p_r = (2*pairs[0][1] + 1)/(2*pairs[0][0]+1)\n",
    "print(\"Best Fit(s) for (I85, I87): \"+str(pairs[0]))\n",
    "print(\"Predicted ratio: \" + str(p_r))\n",
    "print(\"Observed ratio: \" + str(r))"
   ]
  },
  {
   "cell_type": "code",
   "execution_count": 10,
   "metadata": {},
   "outputs": [
    {
     "name": "stdout",
     "output_type": "stream",
     "text": [
      "Best Fit(s) for (I85, I87): (2.5, 1.5)\n",
      "Predicted ratio: 0.6666666666666666\n",
      "Observed ratio: 0.6758033915953846\n"
     ]
    }
   ],
   "source": [
    "#Using fit to data and integer expectation\n",
    "def error(pair):\n",
    "    x, y = pair\n",
    "    return abs(2 *x * m85 - c + m85) +abs(2 *y * m87 - c + m87)\n",
    "pairs = [y for x in [[(x/2, y/2) for y in range(0, max_spin)] for x in range(0,max_spin)] for y in x]\n",
    "pairs.sort(key= lambda x:error(x))\n",
    "p_r = (2*pairs[0][1] + 1)/(2*pairs[0][0]+1)\n",
    "print(\"Best Fit(s) for (I85, I87): \"+str(pairs[0]))\n",
    "print(\"Predicted ratio: \" + str(p_r))\n",
    "print(\"Observed ratio: \" + str(r))"
   ]
  },
  {
   "cell_type": "code",
   "execution_count": 11,
   "metadata": {},
   "outputs": [
    {
     "name": "stdout",
     "output_type": "stream",
     "text": [
      "Best Fit(s) for (I85, I87): (2.552240990510871, 1.5627148133537025)\n",
      "Expected Errors: [0.00187967 0.00044027]\n"
     ]
    }
   ],
   "source": [
    "#Using fit to data w/o integer expectation.\n",
    "pairs = [y for x in [[(x/2, y/2) for y in range(0, max_spin)] for x in range(0,max_spin)] for y in x]\n",
    "pairs[0] =  ((c- m85)/2/m85,  (c- m87)/2/m87)\n",
    "p_r = (2*pairs[0][1] + 1)/(2*pairs[0][0]+1)\n",
    "\n",
    "errors = c / np.array(pairs[0])**2 * np.array([adj_85[1], adj_87[1]])/2\n",
    "print(\"Best Fit(s) for (I85, I87): \"+str(pairs[0]))\n",
    "print(\"Expected Errors: \" + str(errors))"
   ]
  },
  {
   "cell_type": "code",
   "execution_count": 12,
   "metadata": {},
   "outputs": [
    {
     "name": "stdout",
     "output_type": "stream",
     "text": [
      "[[0.41068787 0.00584714]\n",
      " [0.42356135 0.01160826]\n",
      " [0.31420681 0.03470379]\n",
      " [0.33783084 0.02369827]]\n",
      "0.4077779581621423 0.005045544059023304\n"
     ]
    }
   ],
   "source": [
    "#Lets calculate the magnitude of the magnetic field\n",
    "#First lets get frequency offsets\n",
    "#v = 2.799 /(2I +1) * B \n",
    "#v = 2.799 / (2I+1) * Bapplied + 2.799 / (2I+1) * Bambient\n",
    "#v_0 * (2I+1) / 2.799 G / MHz = B_ambient\n",
    "data = [simple_lsr(x1, y1), simple_lsr(x2, y2), simple_lsr(x3, y3), simple_lsr(x4, y4)]\n",
    "data = np.array(data)\n",
    "data = data[:, 2:]\n",
    "I = (2 * np.array([3/2, 5/2, 5/2, 3/2]) + 1) / 2.799\n",
    "B = np.zeros(data.shape)\n",
    "B[:, 0] = data[:,0] * I\n",
    "B[:, 1] = data[:,1] * I\n",
    "B = np.abs(B)\n",
    "print(B)\n",
    "wavg = np.sum((1/B[:,1]**2) * B[:, 0])/np.sum(1/B[:,1]**2)\n",
    "werr = (1/np.sum(1/B[:,1]**2))**(1/2)\n",
    "print(wavg, werr)\n",
    "\n",
    "\n"
   ]
  },
  {
   "cell_type": "code",
   "execution_count": 13,
   "metadata": {},
   "outputs": [
    {
     "name": "stdout",
     "output_type": "stream",
     "text": [
      "0.4090746695248303 0.00392997499106823\n"
     ]
    }
   ],
   "source": [
    "#Alrighty. Lets calculate magnitude of ambient magnetic field but this time \n",
    "#from zero current measurements\n",
    "#Note, small number of data points means using stastics for error (as done below)\n",
    "#is questionable.\n",
    "v = np.array([.189, .289])\n",
    "I = (2 * np.array([5/2, 3/2]) + 1) / 2.799\n",
    "B2 = v * I\n",
    "B_avg = np.mean(B2)\n",
    "B_std = np.std(B2)\n",
    "print(B_avg, B_std)"
   ]
  },
  {
   "cell_type": "code",
   "execution_count": 14,
   "metadata": {},
   "outputs": [
    {
     "name": "stdout",
     "output_type": "stream",
     "text": [
      "[-0.32831776 -0.26164154 -0.01398702  0.66561344  1.35142597  3.49624667]\n"
     ]
    }
   ],
   "source": [
    "#Zero Field Resonance. My fav :D\n",
    "f = [.2, .2, .5, .5, 1, 1]\n",
    "v = np.abs(np.array([-.195, -0.356, -.954, -2.595, -4.251, -9.43]))\n",
    "x1,y1 = v[::2], f[::2]\n",
    "x2,y2 = v[1::2], f[1::2]\n",
    "\n",
    "#Lets predict m field real quick\n",
    "#B = I * 4.414138 G / A\n",
    "#I = V/ 10 * A / mV\n",
    "\n",
    "v1_pred = np.array(x1) *adj_85[0] + adj_85[2]\n",
    "v2_pred = np.array(x2) *adj_87[0] + adj_87[2]\n",
    "\n",
    "#B = I * 4.414138 G / A\n",
    "\n",
    "#Expected B Field at this current\n",
    "B = v * .414138  - B_avg\n",
    "print(B)\n",
    "\n",
    "#Which suggests (-.954 mV, .5 MHz) is a zero frequency\n"
   ]
  },
  {
   "cell_type": "code",
   "execution_count": 15,
   "metadata": {},
   "outputs": [
    {
     "data": {
      "text/plain": [
       "[<matplotlib.lines.Line2D at 0x256150b8>]"
      ]
     },
     "execution_count": 15,
     "metadata": {},
     "output_type": "execute_result"
    },
    {
     "data": {
      "image/png": "[encoded data removed]",
      "text/plain": [
       "<Figure size 432x288 with 1 Axes>"
      ]
     },
     "metadata": {
      "needs_background": "light"
     },
     "output_type": "display_data"
    }
   ],
   "source": [
    "plt.title(\"Observed Transition vs Expected\")\n",
    "plt.scatter(x1, y1)\n",
    "plt.plot(x1, v1_pred)\n",
    "plt.scatter(x2, y2)\n",
    "plt.plot(x2, v2_pred)\n",
    "\n",
    "#Graph suggests 9 mV, 3 mV, .9 mV are anomolous (zero frequencies?)"
   ]
  },
  {
   "cell_type": "code",
   "execution_count": null,
   "metadata": {},
   "outputs": [],
   "source": [
    "#50 ms to get from opaque (no optical pumping) to 1/e baseline (optically pumped)\n",
    "#"
   ]
  }
 ],
 "metadata": {
  "kernelspec": {
   "display_name": "Python 3",
   "language": "python",
   "name": "python3"
  },
  "language_info": {
   "codemirror_mode": {
    "name": "ipython",
    "version": 3
   },
   "file_extension": ".py",
   "mimetype": "text/x-python",
   "name": "python",
   "nbconvert_exporter": "python",
   "pygments_lexer": "ipython3",
   "version": "3.8.3"
  }
 },
 "nbformat": 4,
 "nbformat_minor": 4
}
